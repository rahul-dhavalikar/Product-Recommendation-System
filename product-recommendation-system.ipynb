{
 "cells": [
  {
   "cell_type": "code",
   "execution_count": 536,
   "metadata": {},
   "outputs": [],
   "source": [
    "sc.stop()"
   ]
  },
  {
   "cell_type": "markdown",
   "metadata": {},
   "source": [
    "### Initialize Spark instance"
   ]
  },
  {
   "cell_type": "code",
   "execution_count": 537,
   "metadata": {},
   "outputs": [],
   "source": [
    "import findspark\n",
    "\n",
    "findspark.init()\n",
    "\n",
    "import pyspark\n",
    "from pyspark import SparkConf, SparkContext\n",
    "\n",
    "conf = (SparkConf().setMaster(\"spark://Rahuls-MBP:7077\").setAppName(\"prod-reco-system\").set(\"spark.executor.memory\", \"8g\").set(\"spark.driver.memory\",\"3g\").set(\"spark.driver.maxResultSize\",\"0\").set(\"spark.storage.memoryFraction\", \"0.5\"))\n",
    "\n",
    "sc = SparkContext(conf = conf)\n"
   ]
  },
  {
   "cell_type": "code",
   "execution_count": 538,
   "metadata": {},
   "outputs": [
    {
     "data": {
      "text/html": [
       "\n",
       "        <div>\n",
       "            <p><b>SparkContext</b></p>\n",
       "\n",
       "            <p><a href=\"http://rahuls-mbp:4040\">Spark UI</a></p>\n",
       "\n",
       "            <dl>\n",
       "              <dt>Version</dt>\n",
       "                <dd><code>v2.3.0</code></dd>\n",
       "              <dt>Master</dt>\n",
       "                <dd><code>spark://Rahuls-MBP:7077</code></dd>\n",
       "              <dt>AppName</dt>\n",
       "                <dd><code>prod-reco-system</code></dd>\n",
       "            </dl>\n",
       "        </div>\n",
       "        "
      ],
      "text/plain": [
       "<SparkContext master=spark://Rahuls-MBP:7077 appName=prod-reco-system>"
      ]
     },
     "execution_count": 538,
     "metadata": {},
     "output_type": "execute_result"
    }
   ],
   "source": [
    "sc"
   ]
  },
  {
   "cell_type": "code",
   "execution_count": 342,
   "metadata": {},
   "outputs": [],
   "source": [
    "import os\n",
    "import pandas as pd\n",
    "import numpy as np\n",
    "from pyspark.sql import SQLContext\n"
   ]
  },
  {
   "cell_type": "markdown",
   "metadata": {},
   "source": [
    "### Initialize data and paths"
   ]
  },
  {
   "cell_type": "code",
   "execution_count": 542,
   "metadata": {},
   "outputs": [],
   "source": [
    "# category=\"Amazon_Instant_Video\"\n",
    "# category='Musical_Instruments'\n",
    "# category='Apps_for_Android'\n",
    "# category='Toys_and_Games'\n",
    "# category='Cell_Phones_and_Accessories'\n",
    "category='Electronics'\n",
    "# category='Books'"
   ]
  },
  {
   "cell_type": "code",
   "execution_count": 543,
   "metadata": {},
   "outputs": [],
   "source": [
    "#LOCAL\n",
    "datasets_path = os.path.join('..', 'datasets')\n",
    "models_path = os.path.join('..', 'models')\n",
    "\n",
    "datasets_path_local = os.path.join('..', 'datasets')"
   ]
  },
  {
   "cell_type": "code",
   "execution_count": 544,
   "metadata": {},
   "outputs": [],
   "source": [
    "#HDFS\n",
    "datasets_path = \"hdfs://192.168.1.6:9000/data/\"\n",
    "models_path = \"hdfs://192.168.1.6:9000/models/\"\n",
    "\n",
    "datasets_path_local = os.path.join('..', 'datasets')"
   ]
  },
  {
   "cell_type": "code",
   "execution_count": 545,
   "metadata": {},
   "outputs": [],
   "source": [
    "meta_data_file = os.path.join(datasets_path, 'meta_'+category+'.json')\n",
    "meta_data_file_encoded = os.path.join(datasets_path, 'meta_'+category+'_encoded.csv')\n",
    "\n",
    "meta_data_file_local = os.path.join(datasets_path_local, 'meta_'+category+'.json')\n",
    "meta_data_file_encoded_local = os.path.join(datasets_path_local, 'meta_'+category+'_encoded.csv')\n",
    "\n",
    "ratings_file = os.path.join(datasets_path, 'ratings_'+category+'.csv')\n",
    "ratings_file_encoded = os.path.join(datasets_path, 'ratings_'+category+'_encoded.csv')\n",
    "ratings_file_local = os.path.join(datasets_path_local, 'ratings_'+category+'.csv')\n",
    "\n"
   ]
  },
  {
   "cell_type": "code",
   "execution_count": 546,
   "metadata": {},
   "outputs": [
    {
     "data": {
      "text/plain": [
       "'hdfs://192.168.1.6:9000/data/ratings_Electronics_encoded.csv'"
      ]
     },
     "execution_count": 546,
     "metadata": {},
     "output_type": "execute_result"
    }
   ],
   "source": [
    "ratings_file_encoded"
   ]
  },
  {
   "cell_type": "code",
   "execution_count": 52,
   "metadata": {},
   "outputs": [
    {
     "name": "stdout",
     "output_type": "stream",
     "text": [
      "18/05/28 02:17:54 WARN util.NativeCodeLoader: Unable to load native-hadoop library for your platform... using builtin-java classes where applicable\n",
      "18/05/28 02:18:08 WARN util.NativeCodeLoader: Unable to load native-hadoop library for your platform... using builtin-java classes where applicable\n",
      "18/05/28 02:18:14 WARN util.NativeCodeLoader: Unable to load native-hadoop library for your platform... using builtin-java classes where applicable\n",
      "Found 25 items\n",
      "-rw-r--r--   1 rahul supergroup  916259348 2018-05-28 02:18 /data/ratings_Books.csv\n",
      "-rw-r--r--   1 rahul supergroup 2540618615 2018-05-28 02:18 /data/meta_Books.json\n",
      "drwxr-xr-x   - rahul supergroup          0 2018-05-26 20:26 /data/ratings_Musical_Instruments_encoded.csv\n",
      "-rw-r--r--   1 rahul supergroup   13329224 2018-05-26 20:25 /data/meta_Musical_Instruments_encoded.csv\n",
      "-rw-r--r--   1 rahul supergroup   19875726 2018-05-26 20:24 /data/ratings_Musical_Instruments.csv\n",
      "-rw-r--r--   1 rahul supergroup  102040366 2018-05-26 20:24 /data/meta_Musical_Instruments.json\n",
      "-rw-r--r--   1 rahul supergroup  306860900 2018-05-26 18:08 /data/meta_Books_encoded.csv\n",
      "drwxr-xr-x   - rahul supergroup          0 2018-05-26 16:31 /data/ratings_Electronics_encoded.csv\n",
      "-rw-r--r--   1 rahul supergroup   90331441 2018-05-26 16:21 /data/meta_Electronics_encoded.csv\n",
      "-rw-r--r--   1 rahul supergroup  318766497 2018-05-26 16:11 /data/ratings_Electronics.csv\n",
      "-rw-r--r--   1 rahul supergroup  663635572 2018-05-26 16:11 /data/meta_Electronics.json\n",
      "drwxr-xr-x   - rahul supergroup          0 2018-05-24 01:18 /data/ratings_Toys_and_Games_encoded.csv\n",
      "-rw-r--r--   1 rahul supergroup   38247253 2018-05-24 01:17 /data/meta_Toys_and_Games_encoded.csv\n",
      "drwxr-xr-x   - rahul supergroup          0 2018-05-23 23:18 /data/ratings_Cell_Phones_and_Accessories_encoded.csv\n",
      "-rw-r--r--   1 rahul supergroup   63651403 2018-05-23 23:16 /data/meta_Cell_Phones_and_Accessories_encoded.csv\n",
      "-rw-r--r--   1 rahul supergroup  140470776 2018-05-23 22:58 /data/ratings_Cell_Phones_and_Accessories.csv\n",
      "-rw-r--r--   1 rahul supergroup  406922383 2018-05-23 22:58 /data/meta_Cell_Phones_and_Accessories.json\n",
      "-rw-r--r--   1 rahul supergroup  107498540 2018-05-23 22:53 /data/ratings_Apps_for_Android.csv\n",
      "-rw-r--r--   1 rahul supergroup   59955438 2018-05-23 22:53 /data/meta_Apps_for_Android.json\n",
      "-rw-r--r--   1 rahul supergroup   91781923 2018-05-23 14:24 /data/ratings_Toys_and_Games.csv\n",
      "-rw-r--r--   1 rahul supergroup  470588058 2018-05-23 14:24 /data/meta_Toys_and_Games.json\n",
      "drwxr-xr-x   - rahul supergroup          0 2018-05-05 01:06 /data/ratings_Amazon_Instant_Video_encoded.csv\n",
      "-rw-r--r--   1 rahul supergroup    1368080 2018-05-05 01:03 /data/meta_Amazon_Instant_Video_encoded.csv\n",
      "-rw-r--r--   1 rahul supergroup   23791396 2018-05-05 01:03 /data/ratings_Amazon_Instant_Video.csv\n",
      "-rw-r--r--   1 rahul supergroup    2063220 2018-05-05 01:03 /data/meta_Amazon_Instant_Video.json\n"
     ]
    }
   ],
   "source": [
    "# ! hdfs dfs -mkdir /data\n",
    "hdfs_cmd = \"hdfs dfs -put -f \"+meta_data_file_local+\" /data/\"\n",
    "! $hdfs_cmd\n",
    "hdfs_cmd = \"hdfs dfs -put -f \"+ratings_file_local+\" /data/\"\n",
    "! $hdfs_cmd\n",
    "! hdfs dfs -ls -t /data\n",
    "\n"
   ]
  },
  {
   "cell_type": "markdown",
   "metadata": {},
   "source": [
    "### Process meta.json to meta-encoded.csv"
   ]
  },
  {
   "cell_type": "code",
   "execution_count": 350,
   "metadata": {
    "scrolled": false
   },
   "outputs": [
    {
     "name": "stdout",
     "output_type": "stream",
     "text": [
      "hdfs://192.168.1.6:9000/data/meta_Electronics.json\n",
      "Row(prodId=u'0132793040', title=u'Kelby Training DVD: Mastering Blend Modes in Adobe Photoshop CS5 By Corey Barker', categories=[[u'Electronics', u'Computers & Accessories', u'Cables & Accessories', u'Monitor Accessories']])\n",
      "Row(prodIdIndex=93026, title=u'Kelby Training DVD: Mastering Blend Modes in Adobe Photoshop CS5 By Corey Barker', categories=[[u'Electronics', u'Computers & Accessories', u'Cables & Accessories', u'Monitor Accessories']], prodId=u'0132793040')\n"
     ]
    }
   ],
   "source": [
    "sqlContext = SQLContext(sc)\n",
    "\n",
    "print(meta_data_file)\n",
    "df = sqlContext.read.json(meta_data_file)\n",
    "# df.first()\n",
    "\n",
    "df = df.select('asin','title','categories').withColumnRenamed('asin','prodId')\n",
    "\n",
    "print(df.first())\n",
    "\n",
    "\n",
    "from pyspark.ml.feature import StringIndexer\n",
    "\n",
    "prodIdIndexer = StringIndexer(inputCol=\"prodId\", outputCol=\"prodIdIndex\",  handleInvalid='skip')\n",
    "prodIdModel = prodIdIndexer.fit(df)\n",
    "indexedDf = prodIdModel.transform(df)\n",
    "# print(type(indexedDf.select('categories')))\n",
    "# print(indexedDf.first())\n",
    "\n",
    "prodIndexedDf = indexedDf.select('prodIdIndex','title','categories','prodId')\n",
    "\n",
    "from pyspark.sql.types import IntegerType\n",
    "from pyspark.sql.functions import regexp_replace\n",
    "\n",
    "prodIndexedDf = prodIndexedDf.withColumn(\"prodIdIndex\", prodIndexedDf[\"prodIdIndex\"].cast(IntegerType()))\n",
    "prodIndexedDf = prodIndexedDf.withColumn(\"title\", regexp_replace(prodIndexedDf[\"title\"], \"[\\\\r\\\\n]\", \"\"))\n",
    "\n",
    "print(prodIndexedDf.first())"
   ]
  },
  {
   "cell_type": "code",
   "execution_count": 351,
   "metadata": {},
   "outputs": [],
   "source": [
    "prodIndexedDf.toPandas().to_csv(meta_data_file_encoded_local, header=True, index=False)"
   ]
  },
  {
   "cell_type": "code",
   "execution_count": 352,
   "metadata": {},
   "outputs": [
    {
     "name": "stdout",
     "output_type": "stream",
     "text": [
      "18/05/29 19:42:49 WARN util.NativeCodeLoader: Unable to load native-hadoop library for your platform... using builtin-java classes where applicable\n",
      "18/05/29 19:42:53 WARN util.NativeCodeLoader: Unable to load native-hadoop library for your platform... using builtin-java classes where applicable\n",
      "Found 26 items\n",
      "-rw-r--r--   1 rahul supergroup   90331441 2018-05-29 19:42 /data/meta_Electronics_encoded.csv\n",
      "drwxr-xr-x   - rahul supergroup          0 2018-05-29 00:13 /data/ratings_Musical_Instruments_encoded.csv\n",
      "-rw-r--r--   1 rahul supergroup   13329224 2018-05-29 00:12 /data/meta_Musical_Instruments_encoded.csv\n",
      "drwxr-xr-x   - rahul supergroup          0 2018-05-28 03:21 /data/ratings_Books_encoded.csv\n",
      "-rw-r--r--   1 rahul supergroup  306860900 2018-05-28 02:55 /data/meta_Books_encoded.csv\n",
      "-rw-r--r--   1 rahul supergroup  916259348 2018-05-28 02:18 /data/ratings_Books.csv\n",
      "-rw-r--r--   1 rahul supergroup 2540618615 2018-05-28 02:18 /data/meta_Books.json\n",
      "-rw-r--r--   1 rahul supergroup   19875726 2018-05-26 20:24 /data/ratings_Musical_Instruments.csv\n",
      "-rw-r--r--   1 rahul supergroup  102040366 2018-05-26 20:24 /data/meta_Musical_Instruments.json\n",
      "drwxr-xr-x   - rahul supergroup          0 2018-05-26 16:31 /data/ratings_Electronics_encoded.csv\n",
      "-rw-r--r--   1 rahul supergroup  318766497 2018-05-26 16:11 /data/ratings_Electronics.csv\n",
      "-rw-r--r--   1 rahul supergroup  663635572 2018-05-26 16:11 /data/meta_Electronics.json\n",
      "drwxr-xr-x   - rahul supergroup          0 2018-05-24 01:18 /data/ratings_Toys_and_Games_encoded.csv\n",
      "-rw-r--r--   1 rahul supergroup   38247253 2018-05-24 01:17 /data/meta_Toys_and_Games_encoded.csv\n",
      "drwxr-xr-x   - rahul supergroup          0 2018-05-23 23:18 /data/ratings_Cell_Phones_and_Accessories_encoded.csv\n",
      "-rw-r--r--   1 rahul supergroup   63651403 2018-05-23 23:16 /data/meta_Cell_Phones_and_Accessories_encoded.csv\n",
      "-rw-r--r--   1 rahul supergroup  140470776 2018-05-23 22:58 /data/ratings_Cell_Phones_and_Accessories.csv\n",
      "-rw-r--r--   1 rahul supergroup  406922383 2018-05-23 22:58 /data/meta_Cell_Phones_and_Accessories.json\n",
      "-rw-r--r--   1 rahul supergroup  107498540 2018-05-23 22:53 /data/ratings_Apps_for_Android.csv\n",
      "-rw-r--r--   1 rahul supergroup   59955438 2018-05-23 22:53 /data/meta_Apps_for_Android.json\n",
      "-rw-r--r--   1 rahul supergroup   91781923 2018-05-23 14:24 /data/ratings_Toys_and_Games.csv\n",
      "-rw-r--r--   1 rahul supergroup  470588058 2018-05-23 14:24 /data/meta_Toys_and_Games.json\n",
      "drwxr-xr-x   - rahul supergroup          0 2018-05-05 01:06 /data/ratings_Amazon_Instant_Video_encoded.csv\n",
      "-rw-r--r--   1 rahul supergroup    1368080 2018-05-05 01:03 /data/meta_Amazon_Instant_Video_encoded.csv\n",
      "-rw-r--r--   1 rahul supergroup   23791396 2018-05-05 01:03 /data/ratings_Amazon_Instant_Video.csv\n",
      "-rw-r--r--   1 rahul supergroup    2063220 2018-05-05 01:03 /data/meta_Amazon_Instant_Video.json\n"
     ]
    }
   ],
   "source": [
    "hdfs_cmd = \"hdfs dfs -put -f \"+meta_data_file_encoded_local+\" /data/\"\n",
    "! $hdfs_cmd\n",
    "! hdfs dfs -ls -t /data"
   ]
  },
  {
   "cell_type": "markdown",
   "metadata": {},
   "source": [
    "### Process ratings.csv to ratings-encoded.csv\n"
   ]
  },
  {
   "cell_type": "code",
   "execution_count": 353,
   "metadata": {
    "scrolled": true
   },
   "outputs": [
    {
     "name": "stdout",
     "output_type": "stream",
     "text": [
      "Row(userIdIndex=849668, prodIdIndex=93026, rating=u'5.0', userId=u'AKM1MP6P0OYPR', prodId=u'0132793040')\n",
      "6584243\n"
     ]
    }
   ],
   "source": [
    "\n",
    "df = sqlContext.read.csv(ratings_file)\n",
    "# print(df.first())\n",
    "\n",
    "df = df.withColumnRenamed('_c0','userId').withColumnRenamed('_c1','prodId').withColumnRenamed('_c2','rating').withColumnRenamed('_c3','timestamp')\n",
    "\n",
    "from pyspark.ml.feature import StringIndexer\n",
    "\n",
    "prodIdIndexedDf = prodIdModel.transform(df)\n",
    "# print(prodIdIndexedDf.first())\n",
    "\n",
    "useridIndexer = StringIndexer(inputCol=\"userId\", outputCol=\"userIdIndex\", handleInvalid='skip')\n",
    "userIdModel = useridIndexer.fit(prodIdIndexedDf)\n",
    "useridIndexedDf = userIdModel.transform(prodIdIndexedDf)\n",
    "\n",
    "# print(useridIndexedDf.first())\n",
    "\n",
    "useridIndexedDf = useridIndexedDf.withColumn(\"userIdIndex\", useridIndexedDf[\"userIdIndex\"].cast(IntegerType()))\n",
    "useridIndexedDf = useridIndexedDf.withColumn(\"prodIdIndex\", useridIndexedDf[\"prodIdIndex\"].cast(IntegerType()))\n",
    "\n",
    "finalIndexedDf = useridIndexedDf.select('userIdIndex','prodIdIndex','rating','userId','prodId')\n",
    "print(finalIndexedDf.first())\n",
    "print(finalIndexedDf.count())"
   ]
  },
  {
   "cell_type": "code",
   "execution_count": 354,
   "metadata": {},
   "outputs": [],
   "source": [
    "finalIndexedDf.write.mode('overwrite').format(\"com.databricks.spark.csv\").option(\"header\", \"true\").save(ratings_file_encoded)"
   ]
  },
  {
   "cell_type": "code",
   "execution_count": 355,
   "metadata": {},
   "outputs": [
    {
     "name": "stdout",
     "output_type": "stream",
     "text": [
      "18/05/29 19:49:46 WARN util.NativeCodeLoader: Unable to load native-hadoop library for your platform... using builtin-java classes where applicable\n",
      "Found 26 items\n",
      "drwxr-xr-x   - rahul supergroup          0 2018-05-29 19:49 /data/ratings_Electronics_encoded.csv\n",
      "-rw-r--r--   1 rahul supergroup   90331441 2018-05-29 19:42 /data/meta_Electronics_encoded.csv\n",
      "drwxr-xr-x   - rahul supergroup          0 2018-05-29 00:13 /data/ratings_Musical_Instruments_encoded.csv\n",
      "-rw-r--r--   1 rahul supergroup   13329224 2018-05-29 00:12 /data/meta_Musical_Instruments_encoded.csv\n",
      "drwxr-xr-x   - rahul supergroup          0 2018-05-28 03:21 /data/ratings_Books_encoded.csv\n",
      "-rw-r--r--   1 rahul supergroup  306860900 2018-05-28 02:55 /data/meta_Books_encoded.csv\n",
      "-rw-r--r--   1 rahul supergroup  916259348 2018-05-28 02:18 /data/ratings_Books.csv\n",
      "-rw-r--r--   1 rahul supergroup 2540618615 2018-05-28 02:18 /data/meta_Books.json\n",
      "-rw-r--r--   1 rahul supergroup   19875726 2018-05-26 20:24 /data/ratings_Musical_Instruments.csv\n",
      "-rw-r--r--   1 rahul supergroup  102040366 2018-05-26 20:24 /data/meta_Musical_Instruments.json\n",
      "-rw-r--r--   1 rahul supergroup  318766497 2018-05-26 16:11 /data/ratings_Electronics.csv\n",
      "-rw-r--r--   1 rahul supergroup  663635572 2018-05-26 16:11 /data/meta_Electronics.json\n",
      "drwxr-xr-x   - rahul supergroup          0 2018-05-24 01:18 /data/ratings_Toys_and_Games_encoded.csv\n",
      "-rw-r--r--   1 rahul supergroup   38247253 2018-05-24 01:17 /data/meta_Toys_and_Games_encoded.csv\n",
      "drwxr-xr-x   - rahul supergroup          0 2018-05-23 23:18 /data/ratings_Cell_Phones_and_Accessories_encoded.csv\n",
      "-rw-r--r--   1 rahul supergroup   63651403 2018-05-23 23:16 /data/meta_Cell_Phones_and_Accessories_encoded.csv\n",
      "-rw-r--r--   1 rahul supergroup  140470776 2018-05-23 22:58 /data/ratings_Cell_Phones_and_Accessories.csv\n",
      "-rw-r--r--   1 rahul supergroup  406922383 2018-05-23 22:58 /data/meta_Cell_Phones_and_Accessories.json\n",
      "-rw-r--r--   1 rahul supergroup  107498540 2018-05-23 22:53 /data/ratings_Apps_for_Android.csv\n",
      "-rw-r--r--   1 rahul supergroup   59955438 2018-05-23 22:53 /data/meta_Apps_for_Android.json\n",
      "-rw-r--r--   1 rahul supergroup   91781923 2018-05-23 14:24 /data/ratings_Toys_and_Games.csv\n",
      "-rw-r--r--   1 rahul supergroup  470588058 2018-05-23 14:24 /data/meta_Toys_and_Games.json\n",
      "drwxr-xr-x   - rahul supergroup          0 2018-05-05 01:06 /data/ratings_Amazon_Instant_Video_encoded.csv\n",
      "-rw-r--r--   1 rahul supergroup    1368080 2018-05-05 01:03 /data/meta_Amazon_Instant_Video_encoded.csv\n",
      "-rw-r--r--   1 rahul supergroup   23791396 2018-05-05 01:03 /data/ratings_Amazon_Instant_Video.csv\n",
      "-rw-r--r--   1 rahul supergroup    2063220 2018-05-05 01:03 /data/meta_Amazon_Instant_Video.json\n"
     ]
    }
   ],
   "source": [
    "! hdfs dfs -ls -t /data"
   ]
  },
  {
   "cell_type": "markdown",
   "metadata": {},
   "source": [
    "### Load CSV data from existing files"
   ]
  },
  {
   "cell_type": "code",
   "execution_count": 547,
   "metadata": {},
   "outputs": [],
   "source": [
    "ratings_raw_data = sc.textFile(ratings_file_encoded)\n",
    "ratings_raw_data_header = ratings_raw_data.take(1)[0]"
   ]
  },
  {
   "cell_type": "code",
   "execution_count": 548,
   "metadata": {},
   "outputs": [],
   "source": [
    "ratings_data = ratings_raw_data.filter(lambda line: line!=ratings_raw_data_header).map(lambda line: line.split(\",\")).map(lambda tokens: (int(tokens[0]),int(tokens[1]),float(tokens[2]))).cache()"
   ]
  },
  {
   "cell_type": "code",
   "execution_count": 549,
   "metadata": {},
   "outputs": [
    {
     "name": "stdout",
     "output_type": "stream",
     "text": [
      "6584243\n",
      "[(849668, 93026, 5.0), (263499, 165519, 5.0), (1266909, 86550, 1.0)]\n"
     ]
    }
   ],
   "source": [
    "ratings_count = ratings_data.count()\n",
    "print(ratings_count)\n",
    "print(ratings_data.take(3))\n",
    "# type(ratings_data.first()[0])"
   ]
  },
  {
   "cell_type": "code",
   "execution_count": 550,
   "metadata": {},
   "outputs": [
    {
     "name": "stdout",
     "output_type": "stream",
     "text": [
      "6584243\n",
      "3697953\n",
      "1.78051019037\n"
     ]
    }
   ],
   "source": [
    "ratings_id_ratings = (ratings_data.map(lambda x: (int(x[0]), float(x[2]))).groupByKey())\n",
    "users_count = ratings_id_ratings.count()\n",
    "ratings_per_user_ratio = float(ratings_count)/users_count \n",
    "print(ratings_count)\n",
    "print(users_count)\n",
    "print(ratings_per_user_ratio)\n",
    "# print(ratings_id_ratings.take(3))\n"
   ]
  },
  {
   "cell_type": "code",
   "execution_count": 551,
   "metadata": {},
   "outputs": [
    {
     "name": "stdout",
     "output_type": "stream",
     "text": [
      "[5, 5, 1, 3, 1, 3, 1, 5, 1, 1]\n",
      "6584243\n",
      "(1, 769360)\n",
      "(2, 384884)\n",
      "(3, 532423)\n",
      "(4, 1241210)\n",
      "(5, 3656366)\n",
      "6584243\n"
     ]
    }
   ],
   "source": [
    "data_distribution = ratings_data.map(lambda x: int(math.floor(float(x[2]))))\n",
    "print(data_distribution.take(10))\n",
    "print(data_distribution.count())\n",
    "\n",
    "count_dict = dict()\n",
    "count_sum = 0\n",
    "for i in range(1,6):\n",
    "    data_distribution_group = data_distribution.filter(lambda x: x==i)\n",
    "    count_i = data_distribution_group.count()\n",
    "    count_sum += count_i\n",
    "    count_dict[i] = count_i\n",
    "    print(i, count_i)\n",
    "print(count_sum)\n"
   ]
  },
  {
   "cell_type": "code",
   "execution_count": 552,
   "metadata": {},
   "outputs": [
    {
     "data": {
      "image/png": "[encoded data removed]",
      "text/plain": [
       "<matplotlib.figure.Figure at 0x114f6c050>"
      ]
     },
     "metadata": {},
     "output_type": "display_data"
    }
   ],
   "source": [
    "import matplotlib.pyplot as plt\n",
    "plt.bar(list(count_dict.keys()), count_dict.values(), color='darkgreen')\n",
    "plt.xlabel(\"Rating\")\n",
    "plt.ylabel(\"Number of ratings\")\n",
    "plt.title(\"Distribution of Ratings (Dataset) - \"+str(category))\n",
    "plt.show()"
   ]
  },
  {
   "cell_type": "markdown",
   "metadata": {},
   "source": [
    "### Load product meta_(category)_encoded.csv\n"
   ]
  },
  {
   "cell_type": "code",
   "execution_count": 553,
   "metadata": {},
   "outputs": [
    {
     "name": "stdout",
     "output_type": "stream",
     "text": [
      "427097\n",
      "[(93026, u'Kelby Training DVD: Mastering Blend Modes in Adobe Photoshop CS5 By Corey Barker', '\"[[u\\'Electronics\\''), (165519, u'Kelby Training DVD: Adobe Photoshop CS5 Crash Course By Matt Kloskowski', '\"[[u\\'Electronics\\''), (86550, u'Digital Organizer and Messenger', '\"[[u\\'Electronics\\'')]\n"
     ]
    }
   ],
   "source": [
    "product_meta_data_raw = sc.textFile(meta_data_file_encoded)\n",
    "product_meta_data_raw_header = product_meta_data_raw.take(1)[0]\n",
    "\n",
    "product_meta_data = product_meta_data_raw.filter(lambda line: line!=product_meta_data_raw_header).map(lambda line: line.split(\",\")).map(lambda tokens: (int(tokens[0]),tokens[1], str(tokens[2]))).cache()\n",
    "\n",
    "# print(product_meta_data_raw.take(3))\n",
    "print(product_meta_data.count())\n",
    "print(product_meta_data.take(3))"
   ]
  },
  {
   "cell_type": "code",
   "execution_count": 554,
   "metadata": {},
   "outputs": [],
   "source": [
    "training_set, validation_set, test_set = ratings_data.randomSplit([6, 2, 2], seed=0L)\n",
    "validation_set_pred = validation_set.map(lambda x: (x[0], x[1]))\n",
    "test_set_pred = test_set.map(lambda x: (x[0], x[1]))"
   ]
  },
  {
   "cell_type": "markdown",
   "metadata": {},
   "source": [
    "### TRAIN THE MODEL"
   ]
  },
  {
   "cell_type": "code",
   "execution_count": 495,
   "metadata": {
    "scrolled": true
   },
   "outputs": [
    {
     "name": "stdout",
     "output_type": "stream",
     "text": [
      "Rank 8: RMSE = 1.63806409395\n",
      "Time required: 1791.45815802\n",
      "Best model rank: 8\n"
     ]
    }
   ],
   "source": [
    "import time\n",
    "from pyspark.mllib.recommendation import ALS\n",
    "import math\n",
    "\n",
    "seed = 5L\n",
    "iterations = 20\n",
    "regularization_parameter = 0.5\n",
    "ranks = [8]\n",
    "errors = [0] * len(ranks)\n",
    "err = 0\n",
    "tolerance = 0.02\n",
    "\n",
    "min_error = float('inf')\n",
    "best_rank = -1\n",
    "best_iteration = -1\n",
    "for rank in ranks:\n",
    "    start = time.time()\n",
    "\n",
    "    model = ALS.train(training_set, rank, seed=seed, iterations=iterations,lambda_=regularization_parameter)\n",
    "    predictions = model.predictAll(validation_set_pred).map(lambda r: ((r[0], r[1]), r[2]))\n",
    "    ratings_predictions = validation_set.map(lambda r: ((int(r[0]), int(r[1])), float(r[2]))).join(predictions)\n",
    "    error = math.sqrt(ratings_predictions.map(lambda r: (r[1][0] - r[1][1])**2).mean())\n",
    "    errors[err] = error\n",
    "    err += 1\n",
    "    print('Rank %s: RMSE = %s' % (rank, error))\n",
    "    if error < min_error:\n",
    "        min_error = error\n",
    "        best_rank = rank\n",
    "        \n",
    "    end = time.time()\n",
    "    print('Time required: %s' % str(end - start))\n",
    "print('Best model rank: %s' % best_rank)\n"
   ]
  },
  {
   "cell_type": "markdown",
   "metadata": {},
   "source": [
    "### Optimize Regularization parameter\n"
   ]
  },
  {
   "cell_type": "code",
   "execution_count": 325,
   "metadata": {},
   "outputs": [
    {
     "name": "stdout",
     "output_type": "stream",
     "text": [
      "RP 0.001: RMSE = 7.44214225534\n",
      "Time required: 26.4670288563\n",
      "RP 0.005: RMSE = 5.7002634169\n",
      "Time required: 22.3995189667\n",
      "RP 0.01: RMSE = 5.20962179875\n",
      "Time required: 29.6096789837\n",
      "RP 0.05: RMSE = 4.28086486979\n",
      "Time required: 22.1840929985\n",
      "RP 0.1: RMSE = 3.70143706227\n",
      "Time required: 20.4284348488\n",
      "RP 0.5: RMSE = 3.06108986226\n",
      "Time required: 21.7208747864\n",
      "RP 1.0: RMSE = 3.12001839469\n",
      "Time required: 19.3582651615\n",
      "RP 5.0: RMSE = 4.47756841721\n",
      "Time required: 20.6618559361\n",
      "RP 10.0: RMSE = 4.47757492448\n",
      "Time required: 21.6949081421\n",
      "RP 50.0: RMSE = 4.47757492448\n",
      "Time required: 18.1499230862\n",
      "Best model rank: 0.5\n"
     ]
    }
   ],
   "source": [
    "import time\n",
    "from pyspark.mllib.recommendation import ALS\n",
    "import math\n",
    "\n",
    "seed = 5L\n",
    "iterations = 20\n",
    "regularization_parameters = [0.001, 0.005, 0.01, 0.05, 0.1, 0.5, 1.0, 5.0, 10.0, 50.0]\n",
    "rank = 8\n",
    "errors = [0] * len(regularization_parameters)\n",
    "err = 0\n",
    "tolerance = 0.02\n",
    "\n",
    "min_error = float('inf')\n",
    "best_reg_param = -1\n",
    "best_iteration = -1\n",
    "for regularization_parameter in regularization_parameters:\n",
    "    start = time.time()\n",
    "\n",
    "    model = ALS.train(training_set, rank, seed=seed, iterations=iterations,lambda_=regularization_parameter)\n",
    "    predictions = model.predictAll(validation_set_pred).map(lambda r: ((r[0], r[1]), r[2]))\n",
    "    ratings_predictions = validation_set.map(lambda r: ((int(r[0]), int(r[1])), float(r[2]))).join(predictions)\n",
    "    error = math.sqrt(ratings_predictions.map(lambda r: (r[1][0] - r[1][1])**2).mean())\n",
    "    errors[err] = error\n",
    "    err += 1\n",
    "    print('RP %s: RMSE = %s' % (regularization_parameter, error))\n",
    "    if error < min_error:\n",
    "        min_error = error\n",
    "        best_reg_param = regularization_parameter\n",
    "        \n",
    "    end = time.time()\n",
    "    print('Time required: %s' % str(end - start))\n",
    "print('Best model rank: %s' % best_reg_param)\n"
   ]
  },
  {
   "cell_type": "markdown",
   "metadata": {},
   "source": [
    "### LOAD EXISTING MODEL"
   ]
  },
  {
   "cell_type": "code",
   "execution_count": 556,
   "metadata": {},
   "outputs": [
    {
     "name": "stdout",
     "output_type": "stream",
     "text": [
      "18/05/30 01:02:06 WARN util.NativeCodeLoader: Unable to load native-hadoop library for your platform... using builtin-java classes where applicable\n",
      "Found 5 items\n",
      "drwxr-xr-x   - rahul supergroup          0 2018-05-30 00:23 /models/model_Books_8\n",
      "drwxr-xr-x   - rahul supergroup          0 2018-05-29 20:16 /models/model_Electronics_8\n",
      "drwxr-xr-x   - rahul supergroup          0 2018-05-29 00:56 /models/model_Musical_Instruments_64\n",
      "drwxr-xr-x   - rahul supergroup          0 2018-05-26 20:36 /models/model_Musical_Instruments_8\n",
      "drwxr-xr-x   - rahul supergroup          0 2018-05-26 16:08 /models/model_Cell_Phones_and_Accessories_8\n"
     ]
    }
   ],
   "source": [
    "! hdfs dfs -ls -t /models"
   ]
  },
  {
   "cell_type": "code",
   "execution_count": 557,
   "metadata": {},
   "outputs": [],
   "source": [
    "from pyspark.mllib.recommendation import MatrixFactorizationModel\n",
    "\n",
    "model_name = \"model_\"+str(category)+\"_\"+str(8)\n",
    "model_path = os.path.join(models_path, model_name)\n",
    "\n",
    "model = MatrixFactorizationModel.load(sc, model_path)"
   ]
  },
  {
   "cell_type": "markdown",
   "metadata": {},
   "source": [
    "### TEST MODEL"
   ]
  },
  {
   "cell_type": "code",
   "execution_count": 558,
   "metadata": {},
   "outputs": [
    {
     "name": "stdout",
     "output_type": "stream",
     "text": [
      "For testing data the RMSE is 1.81602524824\n",
      "Time required: 27.3252410889\n"
     ]
    }
   ],
   "source": [
    "start = time.time()\n",
    "predictions = model.predictAll(test_set_pred).map(lambda r: ((r[0], r[1]), r[2]))\n",
    "ratings_predictions = test_set.map(lambda r: ((int(r[0]), int(r[1])), float(r[2]))).join(predictions)\n",
    "error = math.sqrt(ratings_predictions.map(lambda r: (r[1][0] - r[1][1])**2).mean())\n",
    "end = time.time()    \n",
    "print 'For testing data the RMSE is %s' % (error)\n",
    "print('Time required: %s' % str(end - start))\n"
   ]
  },
  {
   "cell_type": "code",
   "execution_count": 559,
   "metadata": {},
   "outputs": [
    {
     "data": {
      "text/plain": [
       "[((170792, 91680), 3.9691310364186223),\n",
       " ((386896, 348712), 2.6288057284293873),\n",
       " ((1005400, 124660), 3.4531108164685413),\n",
       " ((988056, 78375), 4.056259395822714),\n",
       " ((196224, 239285), 3.6757123933378515)]"
      ]
     },
     "execution_count": 559,
     "metadata": {},
     "output_type": "execute_result"
    }
   ],
   "source": [
    "predictions.take(5)"
   ]
  },
  {
   "cell_type": "code",
   "execution_count": 560,
   "metadata": {},
   "outputs": [
    {
     "data": {
      "text/plain": [
       "[((263259, 133999), (5.0, 2.4358965699487687)),\n",
       " ((896511, 83283), (1.0, 3.2342934307949154)),\n",
       " ((2719, 222819), (5.0, 4.099493528103354)),\n",
       " ((404739, 352343), (5.0, 0.6393902736572643)),\n",
       " ((729142, 27996), (5.0, -0.7395116837819558))]"
      ]
     },
     "execution_count": 560,
     "metadata": {},
     "output_type": "execute_result"
    }
   ],
   "source": [
    "ratings_predictions.take(5)"
   ]
  },
  {
   "cell_type": "code",
   "execution_count": 562,
   "metadata": {},
   "outputs": [
    {
     "name": "stdout",
     "output_type": "stream",
     "text": [
      "[5, 1, 5, 5, 5, 5, 5, 4, 1, 5]\n",
      "650054\n",
      "(1, 54777)\n",
      "(2, 34817)\n",
      "(3, 54905)\n",
      "(4, 128220)\n",
      "(5, 377335)\n",
      "650054\n"
     ]
    }
   ],
   "source": [
    "actual_data_distribution = ratings_predictions.map(lambda x: int((float(x[1][0]))))\n",
    "print(actual_data_distribution.take(10))\n",
    "print(actual_data_distribution.count())\n",
    "\n",
    "actual_count_dict = dict()\n",
    "actual_count_sum = 0\n",
    "for i in range(1,6):\n",
    "    actual_data_distribution_group = actual_data_distribution.filter(lambda x: x==i)\n",
    "    count_i = actual_data_distribution_group.count()\n",
    "    actual_count_sum += count_i\n",
    "    actual_count_dict[i] = count_i\n",
    "    print(i, count_i)\n",
    "print(actual_count_sum)"
   ]
  },
  {
   "cell_type": "code",
   "execution_count": 563,
   "metadata": {},
   "outputs": [
    {
     "data": {
      "image/png": "[encoded data removed]",
      "text/plain": [
       "<matplotlib.figure.Figure at 0x115735f50>"
      ]
     },
     "metadata": {},
     "output_type": "display_data"
    }
   ],
   "source": [
    "import matplotlib.pyplot as plt\n",
    "values = actual_count_dict.values()\n",
    "plot_values = (x*100/actual_count_sum for x in values)\n",
    "plt.barh(list(actual_count_dict.keys()), list(plot_values), color='gold')\n",
    "plt.ylabel(\"Rating\")\n",
    "plt.xlabel(\"Percentage\")\n",
    "plt.title(\"Distribution of Ratings (Actual) - \"+str(category))\n",
    "plt.show()"
   ]
  },
  {
   "cell_type": "code",
   "execution_count": 564,
   "metadata": {},
   "outputs": [
    {
     "name": "stdout",
     "output_type": "stream",
     "text": [
      "[3, 4, 5, 1, 0, 5, 4, 3, 1, 3]\n",
      "650054\n",
      "(1, 39340)\n",
      "(2, 44042)\n",
      "(3, 110128)\n",
      "(4, 272227)\n",
      "(5, 168052)\n",
      "633789\n"
     ]
    }
   ],
   "source": [
    "prediction_data_distribution = ratings_predictions.map(lambda x: int(math.ceil(float(x[1][1]))))\n",
    "print(prediction_data_distribution.take(10))\n",
    "print(prediction_data_distribution.count())\n",
    "\n",
    "prediction_count_dict = dict()\n",
    "prediction_count_sum = 0\n",
    "for i in range(1,6):\n",
    "    prediction_data_distribution_group = prediction_data_distribution.filter(lambda x: x==i)\n",
    "    count_i = prediction_data_distribution_group.count()\n",
    "    prediction_count_sum += count_i\n",
    "    prediction_count_dict[i] = count_i\n",
    "    print(i, count_i)\n",
    "print(prediction_count_sum)"
   ]
  },
  {
   "cell_type": "code",
   "execution_count": 565,
   "metadata": {},
   "outputs": [
    {
     "data": {
      "image/png": "[encoded data removed]",
      "text/plain": [
       "<matplotlib.figure.Figure at 0x114e93b90>"
      ]
     },
     "metadata": {},
     "output_type": "display_data"
    }
   ],
   "source": [
    "import matplotlib.pyplot as plt\n",
    "values = prediction_count_dict.values()\n",
    "plot_values = (x*100/prediction_count_sum for x in values)\n",
    "plt.barh(list(prediction_count_dict.keys()), list(plot_values), color='gold')\n",
    "plt.ylabel(\"Rating\")\n",
    "plt.xlabel(\"Percentage\")\n",
    "plt.title(\"Distribution of Ratings (Predictions) - \"+str(category))\n",
    "plt.show()"
   ]
  },
  {
   "cell_type": "code",
   "execution_count": 567,
   "metadata": {},
   "outputs": [
    {
     "name": "stdout",
     "output_type": "stream",
     "text": [
      "[(93026, u'Kelby Training DVD: Mastering Blend Modes in Adobe Photoshop CS5 By Corey Barker', '\"[[u\\'Electronics\\''), (165519, u'Kelby Training DVD: Adobe Photoshop CS5 Crash Course By Matt Kloskowski', '\"[[u\\'Electronics\\''), (86550, u'Digital Organizer and Messenger', '\"[[u\\'Electronics\\'')]\n",
      "[(849668, 93026, 5.0), (263499, 165519, 5.0), (1266909, 86550, 1.0)]\n"
     ]
    }
   ],
   "source": [
    "product_titles = product_meta_data.map(lambda x: str(x[1]))\n",
    "# print(product_titles.count())\n",
    "print(product_meta_data.take(3))\n",
    "# print(product_titles.take(3))\n",
    "print(ratings_data.take(3))"
   ]
  },
  {
   "cell_type": "code",
   "execution_count": 568,
   "metadata": {},
   "outputs": [
    {
     "name": "stdout",
     "output_type": "stream",
     "text": [
      "[(131072, 2), (393216, 1), (0, 5), (131080, 2), (16, 15)]\n"
     ]
    }
   ],
   "source": [
    "def get_counts_and_averages(ID_and_ratings_tuple):\n",
    "    nratings = len(ID_and_ratings_tuple[1])\n",
    "    return ID_and_ratings_tuple[0], (nratings, float(sum(x for x in ID_and_ratings_tuple[1]))/nratings)\n",
    "\n",
    "product_id_ratings = (ratings_data.map(lambda x: (int(x[1]), float(x[2]))).groupByKey())\n",
    "# print(product_id_ratings.take(3))\n",
    "product_id_rating_count_avg = product_id_ratings.map(get_counts_and_averages)\n",
    "# [0] = prodId, [1] = ([0] = count of ratings, [1] = avg of ratings)\n",
    "product_rating_counts = product_id_rating_count_avg.map(lambda x: (x[0], x[1][0]))\n",
    "print(product_rating_counts.take(5))"
   ]
  },
  {
   "cell_type": "code",
   "execution_count": 741,
   "metadata": {},
   "outputs": [
    {
     "name": "stdout",
     "output_type": "stream",
     "text": [
      "19\n",
      "[(10000, 6466, 4.0), (10000, 285558, 4.0), (10000, 123942, 4.0)]\n",
      "[(146110, (4.0, u'CowboyStudio Professional Neoprene Neck Strap Neckstrap for NIKON Camera')), (314880, (5.0, u'\"Wacom Intuos3 4x5 Pen Tablet')), (318991, (5.0, u'Klipsch RCX4 Reference Center Channel Speaker'))]\n"
     ]
    }
   ],
   "source": [
    "target_user_id = 10000\n",
    "target_user_ratings = ratings_data.filter(lambda x: int(x[0]) == target_user_id)\n",
    "print(target_user_ratings.count())\n",
    "print(target_user_ratings.take(3))\n",
    "target_user_ratings_ids = target_user_ratings.map(lambda x: x[1]) \n",
    "target_user_ids_title = target_user_ratings.map(lambda x: (x[1],x[2])).join(product_meta_data)\n",
    "# print(target_user_ratings_ids.take(3))\n",
    "print(target_user_ids_title.take(3))\n",
    "target_user_unrated_products = (product_meta_data.map(lambda x: (target_user_id, x[0])))\n",
    "# print(target_user_unrated_products.take(3))"
   ]
  },
  {
   "cell_type": "code",
   "execution_count": 742,
   "metadata": {},
   "outputs": [],
   "source": [
    "target_user_predictions = model.predictAll(target_user_unrated_products)"
   ]
  },
  {
   "cell_type": "code",
   "execution_count": 743,
   "metadata": {
    "scrolled": true
   },
   "outputs": [
    {
     "name": "stdout",
     "output_type": "stream",
     "text": [
      "427097\n",
      "332580\n",
      "[Rating(user=10000, product=257320, rating=3.1137452317653573), Rating(user=10000, product=23776, rating=1.2625907278107662), Rating(user=10000, product=307248, rating=1.760473646492331)]\n"
     ]
    }
   ],
   "source": [
    "print(product_meta_data.count())\n",
    "print(target_user_predictions.count())\n",
    "print(target_user_predictions.take(3))"
   ]
  },
  {
   "cell_type": "markdown",
   "metadata": {},
   "source": [
    "### Getting top recommendations\n"
   ]
  },
  {
   "cell_type": "code",
   "execution_count": 744,
   "metadata": {},
   "outputs": [
    {
     "name": "stdout",
     "output_type": "stream",
     "text": [
      "332580\n",
      "[(0, ((3.331943515026759, u'DROK DC Converter 12V to 5V 3A Car USB Charger Power Supply for iPhone iPad Phone In Vehicle DVR Recorder'), 5)), (131076, ((0.9299691689928007, u'Pioneer DEH-6010MP In-Dash Single DIN MP3/WMA/WAV/CD Tuner AM/FM with Rotary Commander and 2 RCA pre-outs AUX &amp; Remote'), 3)), (262152, ((2.6734830248002517, u'4-Port USB Peripheral Sharing Device'), 1))]\n"
     ]
    }
   ],
   "source": [
    "target_user_predictions_2 = target_user_predictions.map(lambda x: (x.product, x.rating))\n",
    "\n",
    "target_user_predictions_titles_counts = target_user_predictions_2.join(product_meta_data).join(product_rating_counts)\n",
    "print(target_user_predictions_titles_counts.count())\n",
    "print(target_user_predictions_titles_counts.take(3))"
   ]
  },
  {
   "cell_type": "code",
   "execution_count": 745,
   "metadata": {},
   "outputs": [],
   "source": [
    "target_user_predictions_titles_counts = target_user_predictions_titles_counts.map(lambda r: (r[1][0][1], r[1][0][0], r[1][1], r[0]))"
   ]
  },
  {
   "cell_type": "code",
   "execution_count": 746,
   "metadata": {},
   "outputs": [],
   "source": [
    "top_product_recommendations = target_user_predictions_titles_counts.filter(lambda r: r[2]>=25).takeOrdered(10, key=lambda x: -x[1])\n",
    "user_rated_products = target_user_ids_title.takeOrdered(20, key=lambda x: -x[1][0])"
   ]
  },
  {
   "cell_type": "code",
   "execution_count": 747,
   "metadata": {},
   "outputs": [
    {
     "data": {
      "text/html": [
       "<div>\n",
       "<style scoped>\n",
       "    .dataframe tbody tr th:only-of-type {\n",
       "        vertical-align: middle;\n",
       "    }\n",
       "\n",
       "    .dataframe tbody tr th {\n",
       "        vertical-align: top;\n",
       "    }\n",
       "\n",
       "    .dataframe thead th {\n",
       "        text-align: right;\n",
       "    }\n",
       "</style>\n",
       "<table border=\"1\" class=\"dataframe\">\n",
       "  <thead>\n",
       "    <tr style=\"text-align: right;\">\n",
       "      <th></th>\n",
       "      <th>0</th>\n",
       "      <th>1</th>\n",
       "    </tr>\n",
       "  </thead>\n",
       "  <tbody>\n",
       "    <tr>\n",
       "      <th>0</th>\n",
       "      <td>314880</td>\n",
       "      <td>(5.0, \"Wacom Intuos3 4x5 Pen Tablet)</td>\n",
       "    </tr>\n",
       "    <tr>\n",
       "      <th>1</th>\n",
       "      <td>318991</td>\n",
       "      <td>(5.0, Klipsch RCX4 Reference Center Channel Speaker)</td>\n",
       "    </tr>\n",
       "    <tr>\n",
       "      <th>2</th>\n",
       "      <td>259121</td>\n",
       "      <td>(5.0, Tamrac 3536 Express 6 Camera Bag -Black)</td>\n",
       "    </tr>\n",
       "    <tr>\n",
       "      <th>3</th>\n",
       "      <td>272012</td>\n",
       "      <td>(5.0, \"SanDisk Ultra 64GB MicroSDXC Class 10 UHS Memory Card Speed Up To 30MB/s With Adapter)</td>\n",
       "    </tr>\n",
       "    <tr>\n",
       "      <th>4</th>\n",
       "      <td>220222</td>\n",
       "      <td>(5.0, Klipsch RB-41 II Bookshelf Speaker - Black - Pair)</td>\n",
       "    </tr>\n",
       "    <tr>\n",
       "      <th>5</th>\n",
       "      <td>235673</td>\n",
       "      <td>(5.0, DVI to HDMI Cable 6ft Male-Male)</td>\n",
       "    </tr>\n",
       "    <tr>\n",
       "      <th>6</th>\n",
       "      <td>146110</td>\n",
       "      <td>(4.0, CowboyStudio Professional Neoprene Neck Strap Neckstrap for NIKON Camera)</td>\n",
       "    </tr>\n",
       "    <tr>\n",
       "      <th>7</th>\n",
       "      <td>291542</td>\n",
       "      <td>(4.0, Apple 4 GB iPod nano - White (1G)  (Discontinued by Manufacturer))</td>\n",
       "    </tr>\n",
       "    <tr>\n",
       "      <th>8</th>\n",
       "      <td>123942</td>\n",
       "      <td>(4.0, Philips MCM530 150-Watt Micro Shelf System with 5-Disc CD/MP3 Changer and Digital AM/FM Tuner (Discontinued by Manufacturer))</td>\n",
       "    </tr>\n",
       "    <tr>\n",
       "      <th>9</th>\n",
       "      <td>47694</td>\n",
       "      <td>(4.0, Genius Wireless Energy Mouse with Built-In 2700mAh Powerbank for iOS and Android Smartphone Devices)</td>\n",
       "    </tr>\n",
       "    <tr>\n",
       "      <th>10</th>\n",
       "      <td>391454</td>\n",
       "      <td>(4.0, Polk Audio TSx 220B Bookshelf Speaker - Cherry)</td>\n",
       "    </tr>\n",
       "    <tr>\n",
       "      <th>11</th>\n",
       "      <td>289485</td>\n",
       "      <td>(4.0, \"SanDisk SDDR-103 MobileMate SD+ 5-in-1 Mobile Reader (SD/ MiniSD/ MMC/ RS-MMC/ TransFlash)</td>\n",
       "    </tr>\n",
       "    <tr>\n",
       "      <th>12</th>\n",
       "      <td>6466</td>\n",
       "      <td>(4.0, \"Tiffen 49mm Photo Essentials Kit with UV Protector)</td>\n",
       "    </tr>\n",
       "    <tr>\n",
       "      <th>13</th>\n",
       "      <td>285558</td>\n",
       "      <td>(4.0, Logitech Optical Marble Mouse (USB/PS2))</td>\n",
       "    </tr>\n",
       "    <tr>\n",
       "      <th>14</th>\n",
       "      <td>80455</td>\n",
       "      <td>(3.0, Griffin iTrip Wireless Mobile FM Transmitter to Car Radio for iPod nano 1G)</td>\n",
       "    </tr>\n",
       "    <tr>\n",
       "      <th>15</th>\n",
       "      <td>57582</td>\n",
       "      <td>(2.0, DVI Gear HDMI Cable 2M 6 feet)</td>\n",
       "    </tr>\n",
       "    <tr>\n",
       "      <th>16</th>\n",
       "      <td>139247</td>\n",
       "      <td>(2.0, \"Arion Legacy AR306-BK 2.1 Speaker System with Subwoofer for MP3)</td>\n",
       "    </tr>\n",
       "    <tr>\n",
       "      <th>17</th>\n",
       "      <td>201398</td>\n",
       "      <td>(2.0, Denon AVR-1312 5.1 Channel A/V Home Theater Receiver)</td>\n",
       "    </tr>\n",
       "    <tr>\n",
       "      <th>18</th>\n",
       "      <td>153797</td>\n",
       "      <td>(1.0, Apple USB Power Adapter for iPod (White))</td>\n",
       "    </tr>\n",
       "  </tbody>\n",
       "</table>\n",
       "</div>"
      ],
      "text/plain": [
       "         0  \\\n",
       "0   314880   \n",
       "1   318991   \n",
       "2   259121   \n",
       "3   272012   \n",
       "4   220222   \n",
       "5   235673   \n",
       "6   146110   \n",
       "7   291542   \n",
       "8   123942   \n",
       "9   47694    \n",
       "10  391454   \n",
       "11  289485   \n",
       "12  6466     \n",
       "13  285558   \n",
       "14  80455    \n",
       "15  57582    \n",
       "16  139247   \n",
       "17  201398   \n",
       "18  153797   \n",
       "\n",
       "                                                                                                                                      1  \n",
       "0   (5.0, \"Wacom Intuos3 4x5 Pen Tablet)                                                                                                 \n",
       "1   (5.0, Klipsch RCX4 Reference Center Channel Speaker)                                                                                 \n",
       "2   (5.0, Tamrac 3536 Express 6 Camera Bag -Black)                                                                                       \n",
       "3   (5.0, \"SanDisk Ultra 64GB MicroSDXC Class 10 UHS Memory Card Speed Up To 30MB/s With Adapter)                                        \n",
       "4   (5.0, Klipsch RB-41 II Bookshelf Speaker - Black - Pair)                                                                             \n",
       "5   (5.0, DVI to HDMI Cable 6ft Male-Male)                                                                                               \n",
       "6   (4.0, CowboyStudio Professional Neoprene Neck Strap Neckstrap for NIKON Camera)                                                      \n",
       "7   (4.0, Apple 4 GB iPod nano - White (1G)  (Discontinued by Manufacturer))                                                             \n",
       "8   (4.0, Philips MCM530 150-Watt Micro Shelf System with 5-Disc CD/MP3 Changer and Digital AM/FM Tuner (Discontinued by Manufacturer))  \n",
       "9   (4.0, Genius Wireless Energy Mouse with Built-In 2700mAh Powerbank for iOS and Android Smartphone Devices)                           \n",
       "10  (4.0, Polk Audio TSx 220B Bookshelf Speaker - Cherry)                                                                                \n",
       "11  (4.0, \"SanDisk SDDR-103 MobileMate SD+ 5-in-1 Mobile Reader (SD/ MiniSD/ MMC/ RS-MMC/ TransFlash)                                    \n",
       "12  (4.0, \"Tiffen 49mm Photo Essentials Kit with UV Protector)                                                                           \n",
       "13  (4.0, Logitech Optical Marble Mouse (USB/PS2))                                                                                       \n",
       "14  (3.0, Griffin iTrip Wireless Mobile FM Transmitter to Car Radio for iPod nano 1G)                                                    \n",
       "15  (2.0, DVI Gear HDMI Cable 2M 6 feet)                                                                                                 \n",
       "16  (2.0, \"Arion Legacy AR306-BK 2.1 Speaker System with Subwoofer for MP3)                                                              \n",
       "17  (2.0, Denon AVR-1312 5.1 Channel A/V Home Theater Receiver)                                                                          \n",
       "18  (1.0, Apple USB Power Adapter for iPod (White))                                                                                      "
      ]
     },
     "execution_count": 747,
     "metadata": {},
     "output_type": "execute_result"
    }
   ],
   "source": [
    "pd.set_option('display.max_colwidth', -1)\n",
    "pd.DataFrame(user_rated_products)"
   ]
  },
  {
   "cell_type": "code",
   "execution_count": 748,
   "metadata": {
    "scrolled": false
   },
   "outputs": [
    {
     "data": {
      "text/html": [
       "<div>\n",
       "<style scoped>\n",
       "    .dataframe tbody tr th:only-of-type {\n",
       "        vertical-align: middle;\n",
       "    }\n",
       "\n",
       "    .dataframe tbody tr th {\n",
       "        vertical-align: top;\n",
       "    }\n",
       "\n",
       "    .dataframe thead th {\n",
       "        text-align: right;\n",
       "    }\n",
       "</style>\n",
       "<table border=\"1\" class=\"dataframe\">\n",
       "  <thead>\n",
       "    <tr style=\"text-align: right;\">\n",
       "      <th></th>\n",
       "      <th>0</th>\n",
       "      <th>1</th>\n",
       "      <th>2</th>\n",
       "      <th>3</th>\n",
       "    </tr>\n",
       "  </thead>\n",
       "  <tbody>\n",
       "    <tr>\n",
       "      <th>0</th>\n",
       "      <td>Pentax K2000 10.2MP Digital SLR Camera with 18-55mm f/3.5-5.6 DA L Lens and AF200FG Flash</td>\n",
       "      <td>4.018570</td>\n",
       "      <td>25</td>\n",
       "      <td>211074</td>\n",
       "    </tr>\n",
       "    <tr>\n",
       "      <th>1</th>\n",
       "      <td>JAVOedge Cherry Blossom Flip Style Case for the Barnes &amp;amp; Noble Nook (Ocean Blue) - First Generation</td>\n",
       "      <td>3.980742</td>\n",
       "      <td>26</td>\n",
       "      <td>273396</td>\n",
       "    </tr>\n",
       "    <tr>\n",
       "      <th>2</th>\n",
       "      <td>Panasonic PV-GS500 4MP 3CCD MiniDV Camcorder with 12x Optical Image Stabilized Zoom</td>\n",
       "      <td>3.978618</td>\n",
       "      <td>48</td>\n",
       "      <td>292941</td>\n",
       "    </tr>\n",
       "    <tr>\n",
       "      <th>3</th>\n",
       "      <td>Olympus EX-25mm Macro Extension Tube for Olympus Digital SLR Cameras</td>\n",
       "      <td>3.944165</td>\n",
       "      <td>32</td>\n",
       "      <td>408677</td>\n",
       "    </tr>\n",
       "    <tr>\n",
       "      <th>4</th>\n",
       "      <td>\"EasyAcc &amp;reg; Portable Adjust Stand Docks Holder Docking Station for all 4-10 inch Smart phone/E-reader/Tablet:iPad</td>\n",
       "      <td>3.939665</td>\n",
       "      <td>74</td>\n",
       "      <td>21806</td>\n",
       "    </tr>\n",
       "    <tr>\n",
       "      <th>5</th>\n",
       "      <td>Olympus VF-4 ViewFinder (Black)</td>\n",
       "      <td>3.936197</td>\n",
       "      <td>25</td>\n",
       "      <td>105768</td>\n",
       "    </tr>\n",
       "    <tr>\n",
       "      <th>6</th>\n",
       "      <td>\"SMDV RFN-4s Slim Wireless Remote Shutter Cable Release</td>\n",
       "      <td>3.933766</td>\n",
       "      <td>49</td>\n",
       "      <td>426807</td>\n",
       "    </tr>\n",
       "    <tr>\n",
       "      <th>7</th>\n",
       "      <td></td>\n",
       "      <td>3.933062</td>\n",
       "      <td>26</td>\n",
       "      <td>202423</td>\n",
       "    </tr>\n",
       "    <tr>\n",
       "      <th>8</th>\n",
       "      <td>\"Pioneer AVH-P6300BT 7-Inch In-Dash DVD A/V Receiver with iPod/iPhone Control</td>\n",
       "      <td>3.930538</td>\n",
       "      <td>41</td>\n",
       "      <td>425920</td>\n",
       "    </tr>\n",
       "    <tr>\n",
       "      <th>9</th>\n",
       "      <td>Coolerguys 120x120x25mm USB Fan with Grill</td>\n",
       "      <td>3.926401</td>\n",
       "      <td>82</td>\n",
       "      <td>185599</td>\n",
       "    </tr>\n",
       "  </tbody>\n",
       "</table>\n",
       "</div>"
      ],
      "text/plain": [
       "                                                                                                                      0  \\\n",
       "0  Pentax K2000 10.2MP Digital SLR Camera with 18-55mm f/3.5-5.6 DA L Lens and AF200FG Flash                              \n",
       "1  JAVOedge Cherry Blossom Flip Style Case for the Barnes &amp; Noble Nook (Ocean Blue) - First Generation                \n",
       "2  Panasonic PV-GS500 4MP 3CCD MiniDV Camcorder with 12x Optical Image Stabilized Zoom                                    \n",
       "3  Olympus EX-25mm Macro Extension Tube for Olympus Digital SLR Cameras                                                   \n",
       "4  \"EasyAcc &reg; Portable Adjust Stand Docks Holder Docking Station for all 4-10 inch Smart phone/E-reader/Tablet:iPad   \n",
       "5  Olympus VF-4 ViewFinder (Black)                                                                                        \n",
       "6  \"SMDV RFN-4s Slim Wireless Remote Shutter Cable Release                                                                \n",
       "7                                                                                                                         \n",
       "8  \"Pioneer AVH-P6300BT 7-Inch In-Dash DVD A/V Receiver with iPod/iPhone Control                                          \n",
       "9  Coolerguys 120x120x25mm USB Fan with Grill                                                                             \n",
       "\n",
       "          1   2       3  \n",
       "0  4.018570  25  211074  \n",
       "1  3.980742  26  273396  \n",
       "2  3.978618  48  292941  \n",
       "3  3.944165  32  408677  \n",
       "4  3.939665  74  21806   \n",
       "5  3.936197  25  105768  \n",
       "6  3.933766  49  426807  \n",
       "7  3.933062  26  202423  \n",
       "8  3.930538  41  425920  \n",
       "9  3.926401  82  185599  "
      ]
     },
     "execution_count": 748,
     "metadata": {},
     "output_type": "execute_result"
    }
   ],
   "source": [
    "pd.DataFrame(top_product_recommendations)"
   ]
  },
  {
   "cell_type": "markdown",
   "metadata": {},
   "source": [
    "### SAVE THE MODEL"
   ]
  },
  {
   "cell_type": "code",
   "execution_count": 526,
   "metadata": {},
   "outputs": [],
   "source": [
    "from pyspark.mllib.recommendation import MatrixFactorizationModel\n",
    "\n",
    "model_name = \"model_\"+str(category)+\"_\"+str(best_rank)\n",
    "model_path = os.path.join(models_path, model_name)\n",
    "\n",
    "model.save(sc, model_path)\n"
   ]
  },
  {
   "cell_type": "code",
   "execution_count": 527,
   "metadata": {},
   "outputs": [
    {
     "name": "stdout",
     "output_type": "stream",
     "text": [
      "18/05/30 00:50:41 WARN util.NativeCodeLoader: Unable to load native-hadoop library for your platform... using builtin-java classes where applicable\n",
      "Found 5 items\n",
      "drwxr-xr-x   - rahul supergroup          0 2018-05-30 00:23 /models/model_Books_8\n",
      "drwxr-xr-x   - rahul supergroup          0 2018-05-29 20:16 /models/model_Electronics_8\n",
      "drwxr-xr-x   - rahul supergroup          0 2018-05-29 00:56 /models/model_Musical_Instruments_64\n",
      "drwxr-xr-x   - rahul supergroup          0 2018-05-26 20:36 /models/model_Musical_Instruments_8\n",
      "drwxr-xr-x   - rahul supergroup          0 2018-05-26 16:08 /models/model_Cell_Phones_and_Accessories_8\n"
     ]
    }
   ],
   "source": [
    "! hdfs dfs -ls -t /models"
   ]
  },
  {
   "cell_type": "markdown",
   "metadata": {},
   "source": [
    "##### DELETE EXISTING MODELS"
   ]
  },
  {
   "cell_type": "code",
   "execution_count": null,
   "metadata": {},
   "outputs": [],
   "source": [
    "model_path"
   ]
  },
  {
   "cell_type": "code",
   "execution_count": 524,
   "metadata": {},
   "outputs": [
    {
     "name": "stdout",
     "output_type": "stream",
     "text": [
      "18/05/30 00:22:58 WARN util.NativeCodeLoader: Unable to load native-hadoop library for your platform... using builtin-java classes where applicable\n",
      "Deleted hdfs://192.168.1.6:9000/models/model_Books_8\n"
     ]
    }
   ],
   "source": [
    "# hdfs_cmd=\"hdfs dfs -rm -r -f \"+str(model_path)\n",
    "# ! $hdfs_cmd"
   ]
  },
  {
   "cell_type": "markdown",
   "metadata": {},
   "source": [
    "### END OF NOTEBOOK"
   ]
  }
 ],
 "metadata": {
  "kernelspec": {
   "display_name": "Python 2",
   "language": "python",
   "name": "python2"
  },
  "language_info": {
   "codemirror_mode": {
    "name": "ipython",
    "version": 2
   },
   "file_extension": ".py",
   "mimetype": "text/x-python",
   "name": "python",
   "nbconvert_exporter": "python",
   "pygments_lexer": "ipython2",
   "version": "2.7.10"
  }
 },
 "nbformat": 4,
 "nbformat_minor": 1
}
